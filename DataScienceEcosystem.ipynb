{
 "cells": [
  {
   "cell_type": "markdown",
   "id": "61460cd6-6359-4b96-8fc5-707f615c3448",
   "metadata": {
    "tags": []
   },
   "source": [
    "# Data Science Tools and Ecosystem"
   ]
  },
  {
   "cell_type": "markdown",
   "id": "d9206913-4a92-42fd-bbac-4a65a5e811f6",
   "metadata": {},
   "source": [
    "## In this notebook, Data Science Tools and Ecosystem are summarized."
   ]
  },
  {
   "cell_type": "markdown",
   "id": "5fe1048d-b1d3-4fb1-8bfe-dc271849aacc",
   "metadata": {
    "tags": []
   },
   "source": [
    "**Objectives**\n",
    "- Create a markdown cell with the title of the notebook.\n",
    "- Create a markdown cell for an introduction.\n",
    "- Create a markdown cell to list data science languages.\n",
    "- Create a markdown cell to list data science libraries."
   ]
  },
  {
   "cell_type": "markdown",
   "id": "5c9910ed-0c98-4e5d-bfc5-dd14d8b67ebe",
   "metadata": {},
   "source": [
    "#### Some of the popular languages that Data Scientists use are:\n",
    "    1.Python\n",
    "    2. R\n",
    "    3. SQL\n",
    "    4. Julia\n",
    "    5. Scala\n",
    "    6. Java\n",
    "    7. Javascript"
   ]
  },
  {
   "cell_type": "markdown",
   "id": "84123592-ec82-4f79-adc5-22e0b0f3b1cc",
   "metadata": {},
   "source": [
    "#### Some of the commonly used libraries used by Data Scientists include:Data Science Libraries:\n",
    "     1. Pandas\n",
    "     2. Numpy\n",
    "     3. Matplotlib\n",
    "     4. Seaborn\n",
    "     5. Sci-kit Learn\n",
    "     6. Pytorch\n",
    "     7. Plotly\n",
    "     8. Sqlite3\n",
    "     9. Tensor Flow\n",
    "     "
   ]
  },
  {
   "cell_type": "markdown",
   "id": "7966d744-a0db-4050-be00-5c3447363f8a",
   "metadata": {},
   "source": [
    "|Data Scinece Tools|\n",
    "|------------------|\n",
    "|    Power BI      |\n",
    "|    Tableau       |\n",
    "|   Apache Hadoop  |\n",
    "|   Apache Spark   |\n",
    "|   Apache Spark   |"
   ]
  },
  {
   "cell_type": "markdown",
   "id": "5c645fed-e36c-4f3f-9f2a-17382030a553",
   "metadata": {},
   "source": [
    "# Below are a few examples of evaluating arithmetic expressions in Python\n",
    "\n",
    "- Addition: `3 + 5 = 8`\n",
    "- Substraction: `5 - 3 = 2`\n",
    "- Multiplication: `2 x 2 = 4`\n",
    "- Division: `10 / 2 = 5`"
   ]
  },
  {
   "cell_type": "code",
   "execution_count": 16,
   "id": "5462a16d-d6c9-4c75-9470-5085f8a93117",
   "metadata": {
    "tags": []
   },
   "outputs": [
    {
     "name": "stdout",
     "output_type": "stream",
     "text": [
      "17\n"
     ]
    }
   ],
   "source": [
    "# Multiply and Add numbers\n",
    "a = 3\n",
    "b = 4\n",
    "c = 5\n",
    "\n",
    "#This a simple arithmetic expression to mutiply then add integers.\n",
    "expression = (a*b)+c\n",
    "# (3*4)+5 output must be 17 lets print the output\n",
    "print(expression)"
   ]
  },
  {
   "cell_type": "code",
   "execution_count": 17,
   "id": "04771127-d03e-4846-87c4-dfd9ab14c2bc",
   "metadata": {
    "tags": []
   },
   "outputs": [
    {
     "name": "stdout",
     "output_type": "stream",
     "text": [
      "3.3333333333333335\n"
     ]
    }
   ],
   "source": [
    "#Converting minute to Hours.\n",
    "minutes = 200\n",
    "#This will convert 200 minutes to hours by diving by 60.\n",
    "minute_to_hour = minutes/60\n",
    "#Displaying the result.\n",
    "print(minute_to_hour)"
   ]
  },
  {
   "cell_type": "markdown",
   "id": "937bc5f8-3388-4ddd-aa98-926ada8db55e",
   "metadata": {},
   "source": [
    "## Author\n",
    "Hassan Saifuddin"
   ]
  },
  {
   "cell_type": "markdown",
   "id": "d558fadc-6bd9-412b-846a-ce5fc42c7cac",
   "metadata": {},
   "source": []
  }
 ],
 "metadata": {
  "kernelspec": {
   "display_name": "Python 3 (ipykernel)",
   "language": "python",
   "name": "python3"
  },
  "language_info": {
   "codemirror_mode": {
    "name": "ipython",
    "version": 3
   },
   "file_extension": ".py",
   "mimetype": "text/x-python",
   "name": "python",
   "nbconvert_exporter": "python",
   "pygments_lexer": "ipython3",
   "version": "3.11.5"
  }
 },
 "nbformat": 4,
 "nbformat_minor": 5
}
